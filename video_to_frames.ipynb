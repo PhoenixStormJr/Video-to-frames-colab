{
  "cells": [
    {
      "cell_type": "markdown",
      "metadata": {
        "id": "view-in-github",
        "colab_type": "text"
      },
      "source": [
        "<a href=\"https://colab.research.google.com/github/PhoenixStormJr/Video-to-frames-colab/blob/main/video_to_frames.ipynb\" target=\"_parent\"><img src=\"https://colab.research.google.com/assets/colab-badge.svg\" alt=\"Open In Colab\"/></a>"
      ]
    },
    {
      "cell_type": "code",
      "execution_count": 1,
      "metadata": {
        "id": "lfgV_koKmEhx",
        "outputId": "d149db13-13ca-43ba-b8e8-51637b6e1a75",
        "colab": {
          "base_uri": "https://localhost:8080/",
          "height": 870
        }
      },
      "outputs": [
        {
          "output_type": "stream",
          "name": "stdout",
          "text": [
            "Mounted at /content/drive\n",
            "video.mp4\n",
            "/content\n",
            "ffmpeg version 4.4.2-0ubuntu0.22.04.1 Copyright (c) 2000-2021 the FFmpeg developers\n",
            "  built with gcc 11 (Ubuntu 11.2.0-19ubuntu1)\n",
            "  configuration: --prefix=/usr --extra-version=0ubuntu0.22.04.1 --toolchain=hardened --libdir=/usr/lib/x86_64-linux-gnu --incdir=/usr/include/x86_64-linux-gnu --arch=amd64 --enable-gpl --disable-stripping --enable-gnutls --enable-ladspa --enable-libaom --enable-libass --enable-libbluray --enable-libbs2b --enable-libcaca --enable-libcdio --enable-libcodec2 --enable-libdav1d --enable-libflite --enable-libfontconfig --enable-libfreetype --enable-libfribidi --enable-libgme --enable-libgsm --enable-libjack --enable-libmp3lame --enable-libmysofa --enable-libopenjpeg --enable-libopenmpt --enable-libopus --enable-libpulse --enable-librabbitmq --enable-librubberband --enable-libshine --enable-libsnappy --enable-libsoxr --enable-libspeex --enable-libsrt --enable-libssh --enable-libtheora --enable-libtwolame --enable-libvidstab --enable-libvorbis --enable-libvpx --enable-libwebp --enable-libx265 --enable-libxml2 --enable-libxvid --enable-libzimg --enable-libzmq --enable-libzvbi --enable-lv2 --enable-omx --enable-openal --enable-opencl --enable-opengl --enable-sdl2 --enable-pocketsphinx --enable-librsvg --enable-libmfx --enable-libdc1394 --enable-libdrm --enable-libiec61883 --enable-chromaprint --enable-frei0r --enable-libx264 --enable-shared\n",
            "  libavutil      56. 70.100 / 56. 70.100\n",
            "  libavcodec     58.134.100 / 58.134.100\n",
            "  libavformat    58. 76.100 / 58. 76.100\n",
            "  libavdevice    58. 13.100 / 58. 13.100\n",
            "  libavfilter     7.110.100 /  7.110.100\n",
            "  libswscale      5.  9.100 /  5.  9.100\n",
            "  libswresample   3.  9.100 /  3.  9.100\n",
            "  libpostproc    55.  9.100 / 55.  9.100\n",
            "Input #0, mov,mp4,m4a,3gp,3g2,mj2, from 'video.mp4':\n",
            "  Metadata:\n",
            "    major_brand     : isom\n",
            "    minor_version   : 512\n",
            "    compatible_brands: isomiso2avc1mp41\n",
            "    title           : The Adventures of Super Mario Bros. 3 Complete Animated Series [1990] DVDrip [FS] Eng - https://archive.org/details/TheAdventuresofSMB3Animation_complete\n",
            "    encoder         : Lavf57.21.101\n",
            "  Duration: 00:10:57.12, start: 0.000000, bitrate: 833 kb/s\n",
            "  Stream #0:0(und): Video: h264 (Constrained Baseline) (avc1 / 0x31637661), yuv420p, 624x472 [SAR 1:1 DAR 78:59], 697 kb/s, 29.97 fps, 29.97 tbr, 11988 tbn, 59.94 tbc (default)\n",
            "    Metadata:\n",
            "      handler_name    : VideoHandler\n",
            "      vendor_id       : [0][0][0][0]\n",
            "  Stream #0:1(und): Audio: aac (LC) (mp4a / 0x6134706D), 44100 Hz, stereo, fltp, 129 kb/s (default)\n",
            "    Metadata:\n",
            "      handler_name    : SoundHandler\n",
            "      vendor_id       : [0][0][0][0]\n",
            "Stream mapping:\n",
            "  Stream #0:0 -> #0:0 (h264 (native) -> png (native))\n",
            "Press [q] to stop, [?] for help\n",
            "Output #0, image2, to '/outputFrames/out%d.png':\n",
            "  Metadata:\n",
            "    major_brand     : isom\n",
            "    minor_version   : 512\n",
            "    compatible_brands: isomiso2avc1mp41\n",
            "    title           : The Adventures of Super Mario Bros. 3 Complete Animated Series [1990] DVDrip [FS] Eng - https://archive.org/details/TheAdventuresofSMB3Animation_complete\n",
            "    encoder         : Lavf58.76.100\n",
            "  Stream #0:0(und): Video: png, rgb24(pc, gbr/unknown/unknown, progressive), 624x472 [SAR 1:1 DAR 78:59], q=2-31, 200 kb/s, 29.97 fps, 29.97 tbn (default)\n",
            "    Metadata:\n",
            "      handler_name    : VideoHandler\n",
            "      vendor_id       : [0][0][0][0]\n",
            "      encoder         : Lavc58.134.100 png\n",
            "frame=19694 fps= 33 q=-0.0 Lsize=N/A time=00:10:57.12 bitrate=N/A speed= 1.1x    \n",
            "video:7909608kB audio:0kB subtitle:0kB other streams:0kB global headers:0kB muxing overhead: unknown\n"
          ]
        },
        {
          "output_type": "display_data",
          "data": {
            "text/plain": [
              "<IPython.core.display.Javascript object>"
            ],
            "application/javascript": [
              "\n",
              "    async function download(id, filename, size) {\n",
              "      if (!google.colab.kernel.accessAllowed) {\n",
              "        return;\n",
              "      }\n",
              "      const div = document.createElement('div');\n",
              "      const label = document.createElement('label');\n",
              "      label.textContent = `Downloading \"${filename}\": `;\n",
              "      div.appendChild(label);\n",
              "      const progress = document.createElement('progress');\n",
              "      progress.max = size;\n",
              "      div.appendChild(progress);\n",
              "      document.body.appendChild(div);\n",
              "\n",
              "      const buffers = [];\n",
              "      let downloaded = 0;\n",
              "\n",
              "      const channel = await google.colab.kernel.comms.open(id);\n",
              "      // Send a message to notify the kernel that we're ready.\n",
              "      channel.send({})\n",
              "\n",
              "      for await (const message of channel.messages) {\n",
              "        // Send a message to notify the kernel that we're ready.\n",
              "        channel.send({})\n",
              "        if (message.buffers) {\n",
              "          for (const buffer of message.buffers) {\n",
              "            buffers.push(buffer);\n",
              "            downloaded += buffer.byteLength;\n",
              "            progress.value = downloaded;\n",
              "          }\n",
              "        }\n",
              "      }\n",
              "      const blob = new Blob(buffers, {type: 'application/binary'});\n",
              "      const a = document.createElement('a');\n",
              "      a.href = window.URL.createObjectURL(blob);\n",
              "      a.download = filename;\n",
              "      div.appendChild(a);\n",
              "      a.click();\n",
              "      div.remove();\n",
              "    }\n",
              "  "
            ]
          },
          "metadata": {}
        },
        {
          "output_type": "display_data",
          "data": {
            "text/plain": [
              "<IPython.core.display.Javascript object>"
            ],
            "application/javascript": [
              "download(\"download_2419f96d-d694-4e17-9a35-7d5198fdc616\", \"OutputVideoFrames.zip\", 8100933382)"
            ]
          },
          "metadata": {}
        }
      ],
      "source": [
        "LoadFromGoogleDrive = True # @param {type:\"boolean\"}\n",
        "SaveToGoogleDrive = False # @param {type:\"boolean\"}\n",
        "import os\n",
        "if LoadFromGoogleDrive or SaveToGoogleDrive:\n",
        "  if(not os.path.exists('/content/drive')):\n",
        "    from google.colab import drive\n",
        "    drive.mount('/content/drive')\n",
        "\n",
        "\n",
        "\n",
        "\n",
        "import shutil\n",
        "if(LoadFromGoogleDrive):\n",
        "  input = \"/content/drive/MyDrive/InputVideo\"\n",
        "else:\n",
        "  input = \"/content/InputVideo\"\n",
        "\n",
        "from google.colab import files\n",
        "if(not os.path.exists(input)):\n",
        "  os.mkdirs(input)\n",
        "if(len(os.listdir(input)) < 1):\n",
        "  if LoadFromGoogleDrive:\n",
        "    print(\"Your \\\"InputVideo\\\" folder in Google Drive is empty. Please upload a video file.\")\n",
        "  else:\n",
        "    print(\"Please upload a video file.\")\n",
        "  %cd {input}\n",
        "  uploaded = files.upload()\n",
        "if(len(os.listdir(input)) == 1):\n",
        "  filename = os.listdir(input)[0]\n",
        "  filename2 = f\"video.{filename.split('.')[-1]}\"\n",
        "  print(filename2)\n",
        "  shutil.copyfile(f\"{input}/{filename}\", f\"/content/{filename2}\")\n",
        "  %cd /content\n",
        "  output = \"/outputFrames\"\n",
        "  if(not os.path.exists(output)):\n",
        "    os.makedirs(output)\n",
        "  for x in range(10):\n",
        "    print()\n",
        "  print(\"Converting video to frames...\")\n",
        "  print()\n",
        "  !ffmpeg -i {filename2} {output}/out%d.png\n",
        "  print()\n",
        "  print()\n",
        "  print()\n",
        "  print(\"Zipping frames...\")\n",
        "  print()\n",
        "  if(SaveToGoogleDrive):\n",
        "    outputZipName = '/content/drive/MyDrive/OutputVideoFrames'\n",
        "  else:\n",
        "    outputZipName = '/content/OutputVideoFrames'\n",
        "  shutil.make_archive(outputZipName, 'zip', '/outputFrames')\n",
        "  print()\n",
        "  print()\n",
        "  print(\"Downloading zip file. Alternatively, if you have \\\"SaveToGoogleDrive\\\" checked, you can go to Google Drive and download the zip file there, faster.\")\n",
        "  files.download(f'{outputZipName}.zip')\n",
        "elif(len(os.listdir(input)) > 1):\n",
        "  print(\"Your \\\"InputVideo\\\" folder in Google Drive has more than one file. Please upload only one video file. I do not know which video file you want to convert.\")\n",
        "\n"
      ]
    }
  ],
  "metadata": {
    "kernelspec": {
      "display_name": "Python 3",
      "language": "python",
      "name": "python3"
    },
    "language_info": {
      "codemirror_mode": {
        "name": "ipython",
        "version": 3
      },
      "file_extension": ".py",
      "mimetype": "text/x-python",
      "name": "python",
      "nbconvert_exporter": "python",
      "pygments_lexer": "ipython3",
      "version": "3.7.3"
    },
    "colab": {
      "provenance": [],
      "include_colab_link": true
    }
  },
  "nbformat": 4,
  "nbformat_minor": 0
}